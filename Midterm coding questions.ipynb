{
 "cells": [
  {
   "cell_type": "markdown",
   "id": "32704014",
   "metadata": {},
   "source": [
    "Create a list of 10 numbers and find out the minimum, maximum, and total (sum) of the list. "
   ]
  },
  {
   "cell_type": "code",
   "execution_count": 7,
   "id": "2095862a",
   "metadata": {},
   "outputs": [
    {
     "name": "stdout",
     "output_type": "stream",
     "text": [
      "1\n",
      "10\n",
      "55\n"
     ]
    }
   ],
   "source": [
    "numbers = [1,2,3,4,5,6,7,8,9,10]\n",
    "print(min(numbers))\n",
    "print(max(numbers))\n",
    "print(sum(numbers))"
   ]
  },
  {
   "cell_type": "markdown",
   "id": "d12c29cf",
   "metadata": {},
   "source": [
    "What is a nested If statement? Get input from a user and check whether the number is odd or not. If the number is odd it is also less than or equal to 20. If not, then print relevant information.\n",
    "\n"
   ]
  },
  {
   "cell_type": "code",
   "execution_count": 8,
   "id": "6d4f853c",
   "metadata": {},
   "outputs": [
    {
     "name": "stdout",
     "output_type": "stream",
     "text": [
      "Enter an ineteger: 15\n",
      "The number is odd and less than or equal to 20\n"
     ]
    }
   ],
   "source": [
    "number=int(input(\"Enter an ineteger: \"))\n",
    "if number%2==1:\n",
    "    if number <=20:\n",
    "        print(\"The number is odd and less than or equal to 20\")\n",
    "    else:\n",
    "        print(\"The number is odd but is greater than 20\")\n",
    "else:\n",
    "    print(\"The number is not even\")"
   ]
  },
  {
   "cell_type": "markdown",
   "id": "85cbde41",
   "metadata": {},
   "source": [
    "Get a user input of an integer number and check if the given number is a multiple of 11 or not. \n",
    "\n"
   ]
  },
  {
   "cell_type": "code",
   "execution_count": 9,
   "id": "ff9262aa",
   "metadata": {},
   "outputs": [
    {
     "name": "stdout",
     "output_type": "stream",
     "text": [
      "Enter a number: 33\n",
      "The integer is a multiple of 11\n"
     ]
    }
   ],
   "source": [
    "num=int(input(\"Enter a number: \"))\n",
    "if num%11==0:\n",
    "    print(\"The integer is a multiple of 11\")\n",
    "else:\n",
    "     print(\"The integer is not a multiple of 11\")"
   ]
  },
  {
   "cell_type": "markdown",
   "id": "ed8e48eb",
   "metadata": {},
   "source": [
    "In the United States, as of 1995, a minor is generally legally defined as a person under the age of 18. Write a code to check whether a student is a minor or not where the input will be given by users.\n"
   ]
  },
  {
   "cell_type": "code",
   "execution_count": 13,
   "id": "22d26da2",
   "metadata": {},
   "outputs": [
    {
     "name": "stdout",
     "output_type": "stream",
     "text": [
      "Enter your age: 15\n",
      "The person is a minor\n"
     ]
    }
   ],
   "source": [
    "age=int(input(\"Enter your age: \"))\n",
    "if age <=18:\n",
    "        print(\"The person is a minor\")\n",
    "else:\n",
    "    print(\"The person is an adult\")\n"
   ]
  },
  {
   "cell_type": "markdown",
   "id": "97d1339c",
   "metadata": {},
   "source": [
    "Write down a program using a for loop that prints all numbers from 1 to 15 and adds them to a list called numbers_list. \n",
    "\n",
    "numbers_list=[1,2,3,4,...15]\n",
    "\n"
   ]
  },
  {
   "cell_type": "code",
   "execution_count": 21,
   "id": "6d6a49cf",
   "metadata": {},
   "outputs": [
    {
     "name": "stdout",
     "output_type": "stream",
     "text": [
      "1\n",
      "2\n",
      "3\n",
      "4\n",
      "5\n",
      "6\n",
      "7\n",
      "8\n",
      "9\n",
      "10\n",
      "11\n",
      "12\n",
      "13\n",
      "14\n",
      "15\n",
      "The list is:  [1, 2, 3, 4, 5, 6, 7, 8, 9, 10, 11, 12, 13, 14, 15]\n"
     ]
    }
   ],
   "source": [
    "numbers_list = [] \n",
    "for i in range(1, 16): \n",
    "    print(i) \n",
    "    numbers_list.append(i)\n",
    "print(\"The list is: \",  numbers_list)"
   ]
  },
  {
   "cell_type": "code",
   "execution_count": null,
   "id": "abadeb04",
   "metadata": {},
   "outputs": [],
   "source": []
  }
 ],
 "metadata": {
  "kernelspec": {
   "display_name": "Python 3 (ipykernel)",
   "language": "python",
   "name": "python3"
  },
  "language_info": {
   "codemirror_mode": {
    "name": "ipython",
    "version": 3
   },
   "file_extension": ".py",
   "mimetype": "text/x-python",
   "name": "python",
   "nbconvert_exporter": "python",
   "pygments_lexer": "ipython3",
   "version": "3.11.4"
  }
 },
 "nbformat": 4,
 "nbformat_minor": 5
}
